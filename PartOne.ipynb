{
 "cells": [
  {
   "cell_type": "code",
   "execution_count": 21,
   "metadata": {},
   "outputs": [],
   "source": [
    "from pyspark.sql import SparkSession\n",
    "import pyspark.sql.functions as fun\n",
    "from pyspark.sql.types import IntegerType"
   ]
  },
  {
   "cell_type": "code",
   "execution_count": 22,
   "metadata": {},
   "outputs": [],
   "source": [
    "file = open('database.txt')\n",
    "\n",
    "lines = file.readlines()\n",
    "url = lines[0].rstrip()\n",
    "driver = lines[1].rstrip()\n",
    "user = lines[2].rstrip()\n",
    "password = lines[3].rstrip()"
   ]
  },
  {
   "cell_type": "code",
   "execution_count": 23,
   "metadata": {},
   "outputs": [],
   "source": [
    "spark = SparkSession.builder.appName('CreditCardSystem').getOrCreate()"
   ]
  },
  {
   "cell_type": "code",
   "execution_count": 24,
   "metadata": {},
   "outputs": [],
   "source": [
    "#Load JSON\n",
    "brnch_df = spark.read.json('cdw_sapp_branch.json')\n",
    "crdt_df = spark.read.json('cdw_sapp_credit.json')\n",
    "cstmr_df = spark.read.json('cdw_sapp_custmer.json')"
   ]
  },
  {
   "cell_type": "code",
   "execution_count": 25,
   "metadata": {},
   "outputs": [
    {
     "name": "stdout",
     "output_type": "stream",
     "text": [
      "+----------------+------------+-------------+--------------------+----------+----------+--------+----------+---------+-------------------+-----------+---------+--------------------+\n",
      "|  CREDIT_CARD_NO|   CUST_CITY| CUST_COUNTRY|          CUST_EMAIL|CUST_PHONE|CUST_STATE|CUST_ZIP|FIRST_NAME|LAST_NAME|       LAST_UPDATED|MIDDLE_NAME|      SSN| FULL_STREET_ADDRESS|\n",
      "+----------------+------------+-------------+--------------------+----------+----------+--------+----------+---------+-------------------+-----------+---------+--------------------+\n",
      "|4210653310061055|     Natchez|United States| AHooper@example.com|  123-7818|        MS|   39120|      Alec|   Hooper|2018-04-21 09:49:02|         Wm|123456100|Main Street North...|\n",
      "|4210653310102868|Wethersfield|United States| EHolman@example.com|  123-8933|        CT|    6109|      Etta|   Holman|2018-04-21 09:49:02|    Brendan|123453023|  Redwood Drive, 829|\n",
      "|4210653310116272|     Huntley|United States| WDunham@example.com|  124-3018|        IL|   60142|    Wilber|   Dunham|2018-04-21 09:49:02|   Ezequiel|123454487|12th Street East,...|\n",
      "|4210653310195948|   NewBerlin|United States|  EHardy@example.com|  124-3215|        WI|   53151|   Eugenio|    Hardy|2018-04-21 09:49:02|      Trina|123459758|Country Club Road...|\n",
      "|4210653310356919|      ElPaso|United States|  WAyers@example.com|  124-2074|        TX|   79930|   Wilfred|    Ayers|2018-04-21 09:49:02|        May|123454431| Madison Street, 301|\n",
      "|4210653310395982|NorthOlmsted|United States|BWoodard@example.com|  124-2570|        OH|   44070|      Beau|  Woodard|2018-04-21 09:49:02|    Ambrose|123454202|   Colonial Drive, 3|\n",
      "|4210653310400536|      Vienna|United States|   SKemp@example.com|  123-9685|        VA|   22180|    Sheila|     Kemp|2018-04-21 09:49:02|      Larry|123451799|  Belmont Avenue, 84|\n",
      "|4210653310459911|      Duarte|United States| WHurley@example.com|  123-8213|        CA|   91010|     Wendy|   Hurley|2018-04-21 09:49:02|        Ora|123453875|   Oxford Court, 728|\n",
      "|4210653310773972|      Owosso|United States|AGilmore@example.com|  124-0689|        MI|   48867|      Alec|  Gilmore|2018-04-21 09:49:02|     Tracie|123457511|   Forest Street, 81|\n",
      "|4210653310794854|        Zion|United States|    BLau@example.com|  123-5222|        IL|   60099|    Barbra|      Lau|2018-04-21 09:49:02|    Mitchel|123457464|   Court Street, 561|\n",
      "|4210653310817373|  Youngstown|United States|EThomson@example.com|  124-1363|        OH|   44512|   Edmundo|  Thomson|2018-04-21 09:49:02|      Denny|123457639|  Cypress Court, 622|\n",
      "|4210653310844617| Summerville|United States| ETruong@example.com|  123-6228|        SC|   29483|      Elsa|   Truong|2018-04-21 09:49:02|   Isabelle|123453242|8th Street West, 924|\n",
      "|4210653311015303|      ElPaso|United States|HMckinney@example...|  123-8165|        TX|   79930|     Homer| Mckinney|2018-04-21 09:49:02|      Henry|123454339|    East Avenue, 611|\n",
      "|4210653311215039|      Fenton|United States|   RKidd@example.com|  123-4730|        MI|   48430|      Rita|     Kidd|2018-04-21 09:49:02|     Rickey|123454537|       Route 44, 680|\n",
      "|4210653311229354|  Grandville|United States|ABallard@example.com|  124-2113|        MI|   49418|    Amalia|  Ballard|2018-04-21 09:49:02|  Heriberto|123452373|   Warren Street, 71|\n",
      "|4210653311652836|    YubaCity|United States| PThomas@example.com|  123-9888|        CA|   95993|     Patty|   Thomas|2018-04-21 09:49:02|   Angelita|123455343|   Jones Street, 195|\n",
      "|4210653311707126|   CapeCoral|United States| JMorrow@example.com|  124-0158|        FL|   33904|  Josefina|   Morrow|2018-04-21 09:49:02|   Dorothea|123451533|     New Street, 500|\n",
      "|4210653311730764|  Brookfield|United States|NAndrews@example.com|  124-1408|        WI|   53045|    Nelson|  Andrews|2018-04-21 09:49:02|  Jefferson|123459278|Division Street, 989|\n",
      "|4210653311898082|    Richmond|United States|MSchneider@exampl...|  123-8390|        VA|   23223|    Miquel|Schneider|2018-04-21 09:49:02|     Maximo|123456915|   Maple Street, 810|\n",
      "|4210653312021765| WestChester|United States|PTidwell@example.com|  123-5067|        PA|   19380|    Parker|  Tidwell|2018-04-21 09:49:02|    Arnulfo|123453807|     Eagle Road, 649|\n",
      "+----------------+------------+-------------+--------------------+----------+----------+--------+----------+---------+-------------------+-----------+---------+--------------------+\n",
      "only showing top 20 rows\n",
      "\n"
     ]
    }
   ],
   "source": [
    "#Modify Customer Table to Guideline Standards\n",
    "cstmr_df = cstmr_df.withColumn('FULL_STREET_ADDRESS', fun.concat('STREET_NAME', fun.lit(', '), 'APT_NO'))\n",
    "cstmr_df = cstmr_df.withColumn('CUST_PHONE', fun.concat(fun.substring('CUST_PHONE', 0, 3), fun.lit('-'), fun.substring('CUST_PHONE', 4, 4)))\n",
    "cstmr_df = cstmr_df.withColumn('CUST_ZIP', cstmr_df['CUST_ZIP'].cast(IntegerType()))\n",
    "cstmr_df = cstmr_df.withColumn('LAST_UPDATED', fun.to_timestamp(cstmr_df['LAST_UPDATED']))\n",
    "\n",
    "cstmr_df = cstmr_df.drop('STREET_NAME', 'APT_NO')\n",
    "\n",
    "cstmr_df.show()"
   ]
  },
  {
   "cell_type": "code",
   "execution_count": 26,
   "metadata": {},
   "outputs": [
    {
     "name": "stdout",
     "output_type": "stream",
     "text": [
      "+-----------------+-----------+------------+-------------+------------+-------------------+----------+-------------------+\n",
      "|      BRANCH_CITY|BRANCH_CODE| BRANCH_NAME| BRANCH_PHONE|BRANCH_STATE|      BRANCH_STREET|BRANCH_ZIP|       LAST_UPDATED|\n",
      "+-----------------+-----------+------------+-------------+------------+-------------------+----------+-------------------+\n",
      "|        Lakeville|          1|Example Bank|(123)456-5276|          MN|       Bridle Court|     55044|2018-04-18 13:51:47|\n",
      "|          Huntley|          2|Example Bank|(123)461-8993|          IL|  Washington Street|     60142|2018-04-18 13:51:47|\n",
      "|SouthRichmondHill|          3|Example Bank|(123)498-5926|          NY|      Warren Street|     11419|2018-04-18 13:51:47|\n",
      "|       Middleburg|          4|Example Bank|(123)466-3064|          FL|   Cleveland Street|     32068|2018-04-18 13:51:47|\n",
      "|    KingOfPrussia|          5|Example Bank|(123)484-9701|          PA|        14th Street|     19406|2018-04-18 13:51:47|\n",
      "|         Paterson|          7|Example Bank|(123)414-4890|          NJ|   Jefferson Street|      7501|2018-04-18 13:51:47|\n",
      "|        Pittsford|          8|Example Bank|(123)467-8272|          NY|           B Street|     14534|2018-04-18 13:51:47|\n",
      "|     Wethersfield|          9|Example Bank|(123)467-5219|          CT|    Jefferson Court|      6109|2018-04-18 13:51:47|\n",
      "|     NorthOlmsted|         10|Example Bank|(123)414-5047|          OH|     Cambridge Road|     44070|2018-04-18 13:51:47|\n",
      "|     Hillsborough|         11|Example Bank|(123)436-6354|          NJ|    3rd Street West|      8844|2018-04-18 13:51:47|\n",
      "|   MadisonHeights|         12|Example Bank|(123)486-7175|          MI|          Mill Road|     48071|2018-04-18 13:51:47|\n",
      "|           Oviedo|         14|Example Bank|(123)493-8460|          FL|  Washington Street|     32765|2018-04-18 13:51:47|\n",
      "|    Mechanicsburg|         15|Example Bank|(123)446-2043|          PA|    Chestnut Street|     17050|2018-04-18 13:51:47|\n",
      "|        Plainview|         16|Example Bank|(123)485-7525|          NY|       Monroe Drive|     11803|2018-04-18 13:51:47|\n",
      "|          Paducah|         17|Example Bank|(123)454-6360|          KY|    Railroad Street|     42001|2018-04-18 13:51:47|\n",
      "|     Harleysville|         18|Example Bank|(123)482-4455|          PA|Church Street South|     19438|2018-04-18 13:51:47|\n",
      "|     SilverSpring|         19|Example Bank|(123)448-4380|          MD|        King Street|     20901|2018-04-18 13:51:47|\n",
      "|       Burnsville|         20|Example Bank|(123)484-0138|          MN|   Canterbury Drive|     55337|2018-04-18 13:51:47|\n",
      "|           Tacoma|         21|Example Bank|(123)436-2433|          WA|         2nd Avenue|     98444|2018-04-18 13:51:47|\n",
      "|         Carlisle|         22|Example Bank|(123)492-2492|          PA| Front Street South|     17013|2018-04-18 13:51:47|\n",
      "+-----------------+-----------+------------+-------------+------------+-------------------+----------+-------------------+\n",
      "only showing top 20 rows\n",
      "\n"
     ]
    }
   ],
   "source": [
    "#Modify Branch Table to Guideline Standards\n",
    "brnch_df = brnch_df.withColumn('BRANCH_PHONE', fun.concat(fun.lit('('), fun.substring('BRANCH_PHONE', 0, 3), fun.lit(')'), fun.substring('BRANCH_PHONE', 4, 3), fun.lit('-'), fun.substring('BRANCH_PHONE', 7, 4)))\n",
    "brnch_df = brnch_df.withColumn('LAST_UPDATED', fun.to_timestamp(brnch_df['LAST_UPDATED']))\n",
    "\n",
    "brnch_df.show()"
   ]
  },
  {
   "cell_type": "code",
   "execution_count": 27,
   "metadata": {},
   "outputs": [
    {
     "name": "stdout",
     "output_type": "stream",
     "text": [
      "+-----------+----------------+---------+--------------+----------------+-----------------+-------------------+\n",
      "|BRANCH_CODE|  CREDIT_CARD_NO| CUST_SSN|TRANSACTION_ID|TRANSACTION_TYPE|TRANSACTION_VALUE|             TIMEID|\n",
      "+-----------+----------------+---------+--------------+----------------+-----------------+-------------------+\n",
      "|        114|4210653349028689|123459988|             1|       Education|             78.9|2018-02-14 00:00:00|\n",
      "|         35|4210653349028689|123459988|             2|   Entertainment|            14.24|2018-03-20 00:00:00|\n",
      "|        160|4210653349028689|123459988|             3|         Grocery|             56.7|2018-07-08 00:00:00|\n",
      "|        114|4210653349028689|123459988|             4|   Entertainment|            59.73|2018-04-19 00:00:00|\n",
      "|         93|4210653349028689|123459988|             5|             Gas|             3.59|2018-10-10 00:00:00|\n",
      "|        164|4210653349028689|123459988|             6|       Education|             6.89|2018-05-28 00:00:00|\n",
      "|        119|4210653349028689|123459988|             7|   Entertainment|            43.39|2018-05-19 00:00:00|\n",
      "|         23|4210653349028689|123459988|             8|             Gas|            95.39|2018-08-08 00:00:00|\n",
      "|        166|4210653349028689|123459988|             9|   Entertainment|            93.26|2018-03-18 00:00:00|\n",
      "|         83|4210653349028689|123459988|            10|           Bills|           100.38|2018-09-03 00:00:00|\n",
      "|         52|4210653349028689|123459988|            11|             Gas|            98.75|2018-08-21 00:00:00|\n",
      "|         17|4210653349028689|123459988|            12|             Gas|            42.71|2018-12-24 00:00:00|\n",
      "|         80|4210653349028689|123459988|            13|         Grocery|            40.24|2018-04-03 00:00:00|\n",
      "|         50|4210653349028689|123459988|            14|           Bills|            17.81|2018-04-15 00:00:00|\n",
      "|        123|4210653349028689|123459988|            15|           Bills|             29.0|2018-05-17 00:00:00|\n",
      "|          9|4210653349028689|123459988|            16|            Test|            70.63|2018-07-06 00:00:00|\n",
      "|          3|4210653349028689|123459988|            17|            Test|            27.04|2018-09-28 00:00:00|\n",
      "|        135|4210653349028689|123459988|            18|   Entertainment|            88.75|2018-07-04 00:00:00|\n",
      "|        103|4210653349028689|123459988|            19|            Test|            77.02|2018-04-24 00:00:00|\n",
      "|         78|4210653349028689|123459988|            20|           Bills|            34.34|2018-10-08 00:00:00|\n",
      "+-----------+----------------+---------+--------------+----------------+-----------------+-------------------+\n",
      "only showing top 20 rows\n",
      "\n"
     ]
    }
   ],
   "source": [
    "#Modify Credit Card Table to Guideline Standards\n",
    "crdt_df = crdt_df.withColumn('TIMEID', fun.expr('make_date(YEAR, MONTH, DAY)'))\n",
    "crdt_df = crdt_df.withColumn('TIMEID', fun.to_timestamp(crdt_df['TIMEID']))\n",
    "\n",
    "crdt_df = crdt_df.drop('YEAR', 'MONTH', 'DAY')\n",
    "\n",
    "crdt_df.show()"
   ]
  },
  {
   "cell_type": "code",
   "execution_count": 28,
   "metadata": {},
   "outputs": [],
   "source": [
    "#load branch dataframe to mariadb\n",
    "brnch_df.write.format('jdbc').options(\n",
    "      url=url,\n",
    "      driver=driver,\n",
    "      dbtable='CDW_SAPP_BRANCH',\n",
    "      user=user,\n",
    "      password=password).mode('overwrite').save()"
   ]
  },
  {
   "cell_type": "code",
   "execution_count": 29,
   "metadata": {},
   "outputs": [],
   "source": [
    "#load credit card dataframe to mariadb\n",
    "crdt_df.write.format('jdbc').options(\n",
    "      url=url,\n",
    "      driver=driver,\n",
    "      dbtable='CDW_SAPP_CREDIT_CARD',\n",
    "      user=user,\n",
    "      password=password).mode('overwrite').save()"
   ]
  },
  {
   "cell_type": "code",
   "execution_count": 30,
   "metadata": {},
   "outputs": [],
   "source": [
    "#load customer dataframe to mariadb\n",
    "cstmr_df.write.format('jdbc').options(\n",
    "      url=url,\n",
    "      driver=driver,\n",
    "      dbtable='CDW_SAPP_CUSTOMER',\n",
    "      user=user,\n",
    "      password=password).mode('overwrite').save()"
   ]
  }
 ],
 "metadata": {
  "kernelspec": {
   "display_name": "Python 3.9.2 64-bit",
   "language": "python",
   "name": "python3"
  },
  "language_info": {
   "codemirror_mode": {
    "name": "ipython",
    "version": 3
   },
   "file_extension": ".py",
   "mimetype": "text/x-python",
   "name": "python",
   "nbconvert_exporter": "python",
   "pygments_lexer": "ipython3",
   "version": "3.9.2"
  },
  "orig_nbformat": 4,
  "vscode": {
   "interpreter": {
    "hash": "268b35713270089dce1907f2bdf2b5330d291c9010b4c5ccc413b7aaa71d7709"
   }
  }
 },
 "nbformat": 4,
 "nbformat_minor": 2
}
